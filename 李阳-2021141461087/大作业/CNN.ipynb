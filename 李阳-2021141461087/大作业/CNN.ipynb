{
 "cells": [
  {
   "cell_type": "code",
   "execution_count": 2,
   "metadata": {},
   "outputs": [
    {
     "name": "stdout",
     "output_type": "stream",
     "text": [
      "[1,  2000] loss: 1.133\n",
      "[1,  4000] loss: 0.207\n",
      "[1,  6000] loss: 0.153\n",
      "[1,  8000] loss: 0.104\n",
      "[1, 10000] loss: 0.096\n",
      "[1, 12000] loss: 0.089\n",
      "[1, 14000] loss: 0.080\n",
      "[2,  2000] loss: 0.062\n",
      "[2,  4000] loss: 0.061\n",
      "[2,  6000] loss: 0.058\n",
      "[2,  8000] loss: 0.064\n",
      "[2, 10000] loss: 0.053\n",
      "[2, 12000] loss: 0.059\n",
      "[2, 14000] loss: 0.052\n",
      "Finished Training\n"
     ]
    }
   ],
   "source": [
    "import torch\n",
    "import torch.nn as nn\n",
    "import torch.nn.functional as F\n",
    "import torch.optim as optim\n",
    "import torchvision\n",
    "import torchvision.transforms as transforms\n",
    "\n",
    "# 定义网络结构\n",
    "class Net(nn.Module):\n",
    "    def __init__(self):\n",
    "        super(Net, self).__init__()\n",
    "        self.conv1 = nn.Conv2d(1, 6, 5)  # 输入通道1，输出通道6，卷积核大小5\n",
    "        self.pool = nn.MaxPool2d(2, 2)  # 最大池化，核大小2，步长2\n",
    "        self.conv2 = nn.Conv2d(6, 16, 5)  # 输入通道6，输出通道16，卷积核大小5\n",
    "        self.fc1 = nn.Linear(16 * 4 * 4, 120)  # 全连接层，输入维度16*4*4，输出维度120\n",
    "        self.fc2 = nn.Linear(120, 84)  # 全连接层，输入维度120，输出维度84\n",
    "        self.fc3 = nn.Linear(84, 10)  # 全连接层，输入维度84，输出维度10\n",
    "\n",
    "    def forward(self, x):\n",
    "        x = self.pool(F.relu(self.conv1(x)))  # 第一层卷积 -> ReLU -> 池化\n",
    "        x = self.pool(F.relu(self.conv2(x)))  # 第二层卷积 -> ReLU -> 池化\n",
    "        x = x.view(-1, 16 * 4 * 4)  # 展平操作，准备全连接\n",
    "        x = F.relu(self.fc1(x))  # 第一层全连接 -> ReLU\n",
    "        x = F.relu(self.fc2(x))  # 第二层全连接 -> ReLU\n",
    "        x = self.fc3(x)  # 第三层全连接\n",
    "        return x\n",
    "\n",
    "# 加载数据集\n",
    "transform = transforms.Compose([transforms.ToTensor(), transforms.Normalize((0.5,), (0.5,))])\n",
    "trainset = torchvision.datasets.MNIST(root='./data', train=True, download=True, transform=transform)\n",
    "trainloader = torch.utils.data.DataLoader(trainset, batch_size=4, shuffle=True, num_workers=2)\n",
    "\n",
    "# 初始化网络和优化器\n",
    "net = Net()\n",
    "criterion = nn.CrossEntropyLoss()\n",
    "optimizer = optim.SGD(net.parameters(), lr=0.001, momentum=0.9)\n",
    "\n",
    "# 训练网络\n",
    "for epoch in range(2):  # 多次遍历数据集\n",
    "    running_loss = 0.0\n",
    "    for i, data in enumerate(trainloader, 0):\n",
    "        inputs, labels = data\n",
    "        optimizer.zero_grad()\n",
    "        outputs = net(inputs)\n",
    "        loss = criterion(outputs, labels)\n",
    "        loss.backward()\n",
    "        optimizer.step()\n",
    "\n",
    "        running_loss += loss.item()\n",
    "        if i % 2000 == 1999:  # 每2000个批次打印一次\n",
    "            print('[%d, %5d] loss: %.3f' % (epoch + 1, i + 1, running_loss / 2000))\n",
    "            running_loss = 0.0\n",
    "\n",
    "print('Finished Training')"
   ]
  }
 ],
 "metadata": {
  "kernelspec": {
   "display_name": ".venv",
   "language": "python",
   "name": "python3"
  },
  "language_info": {
   "codemirror_mode": {
    "name": "ipython",
    "version": 3
   },
   "file_extension": ".py",
   "mimetype": "text/x-python",
   "name": "python",
   "nbconvert_exporter": "python",
   "pygments_lexer": "ipython3",
   "version": "3.12.0"
  }
 },
 "nbformat": 4,
 "nbformat_minor": 2
}
